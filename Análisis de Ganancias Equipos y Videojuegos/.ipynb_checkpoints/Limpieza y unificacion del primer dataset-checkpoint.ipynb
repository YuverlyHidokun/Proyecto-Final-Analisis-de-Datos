{
 "cells": [
  {
   "cell_type": "code",
   "execution_count": 29,
   "id": "f65b9f5d-5e99-4ce3-a180-76d536faf756",
   "metadata": {},
   "outputs": [],
   "source": [
    "import pandas as pd\n",
    "ruta_archivo = \"GM ciudad-y-continentes-codigos-lista.csv\"\n",
    "ruta_archivo2 = \"GM jugadores-con-mayores-ganancias.csv\""
   ]
  },
  {
   "cell_type": "code",
   "execution_count": 30,
   "id": "423e284e-63d7-483a-b3de-c24794bd271a",
   "metadata": {},
   "outputs": [],
   "source": [
    "dataframeciudades = pd.read_csv(ruta_archivo)\n",
    "dataframejugadores = pd.read_csv(ruta_archivo2)"
   ]
  },
  {
   "cell_type": "code",
   "execution_count": null,
   "id": "7bf0aadd-4666-43ec-b3ce-f399c277757f",
   "metadata": {},
   "outputs": [],
   "source": [
    "print(dataframeciudades.head())  \n",
    "print(dataframejugadores.head())"
   ]
  },
  {
   "cell_type": "code",
   "execution_count": 32,
   "id": "4fa6d3b2-a7fc-4894-aa29-e4b78da5684d",
   "metadata": {},
   "outputs": [],
   "source": [
    "#Limpiar datos\n",
    "dataframe = dataframeciudades.dropna()\n",
    "dataframe2 = dataframejugadores.dropna()"
   ]
  },
  {
   "cell_type": "code",
   "execution_count": 33,
   "id": "05a6657f-a268-400e-b112-fabb245c1ca0",
   "metadata": {},
   "outputs": [],
   "source": [
    "#Limpiar dataframe\n",
    "dataframelimpio = len(dataframe)\n",
    "dataframelimpio2 = len(dataframe2)"
   ]
  },
  {
   "cell_type": "code",
   "execution_count": 45,
   "id": "6304507e-3a05-4fc5-9c5a-6bf234b41bd5",
   "metadata": {},
   "outputs": [
    {
     "name": "stdout",
     "output_type": "stream",
     "text": [
      "El largo del DataFrame es: 214\n"
     ]
    }
   ],
   "source": [
    "#Verificar limpiado\n",
    "print(\"El largo del DataFrame es:\", dataframelimpio)"
   ]
  },
  {
   "cell_type": "code",
   "execution_count": 46,
   "id": "46922e82-84c4-4dc2-ac59-57c432a3d2f1",
   "metadata": {},
   "outputs": [
    {
     "name": "stdout",
     "output_type": "stream",
     "text": [
      "El largo del dataframe es: 1000\n"
     ]
    }
   ],
   "source": [
    "print(\"El largo del dataframe es:\" , dataframelimpio2)"
   ]
  },
  {
   "cell_type": "code",
   "execution_count": null,
   "id": "b57588b5-d807-447c-8b25-37620be40d1e",
   "metadata": {},
   "outputs": [],
   "source": [
    "dataframe['Ciudad'] = dataframe['Ciudad'].str.split(',').str[0]\n",
    "#lIMPIAR DATAFRAME CIUDAD "
   ]
  },
  {
   "cell_type": "code",
   "execution_count": null,
   "id": "58cb0ce1-c991-449e-a407-09edd4fedf9d",
   "metadata": {},
   "outputs": [],
   "source": [
    "# Convertir los códigos de ciudad en dataframe2 a mayúsculas\n",
    "dataframe2['codigociudad'] = dataframe2['codigociudad'].str.upper()"
   ]
  },
  {
   "cell_type": "code",
   "execution_count": null,
   "id": "4b5b8e7e-8674-42e3-87f4-f8b56f941083",
   "metadata": {},
   "outputs": [],
   "source": [
    "#renombrar columnas para que coincidan\n",
    "dataframe.rename(columns={'Ciudad-Code': 'codigociudad'}, inplace=True)"
   ]
  },
  {
   "cell_type": "code",
   "execution_count": 64,
   "id": "c3da2eba-b2df-44f6-b910-c4b051717fe6",
   "metadata": {},
   "outputs": [],
   "source": [
    "# Fusionar los DataFrames basados en el código de ciudad en mayúsculas\n",
    "dataframefinal = pd.merge(dataframe2, dataframe[['codigociudad', 'Ciudad']], on='codigociudad', how='left')"
   ]
  },
  {
   "cell_type": "code",
   "execution_count": null,
   "id": "5f60e3bb-9f3a-4e10-a508-2af2221743cb",
   "metadata": {},
   "outputs": [],
   "source": [
    "dataframefinal = dataframefinal.dropna()\n",
    "# Ahora dataframefinal no contendrá filas con valores nulos\n",
    "print(dataframefinal.head())"
   ]
  },
  {
   "cell_type": "code",
   "execution_count": 68,
   "id": "4219d2c8-0b14-4566-98c7-7b1d8f7bcdd6",
   "metadata": {},
   "outputs": [
    {
     "data": {
      "text/html": [
       "<div>\n",
       "<style scoped>\n",
       "    .dataframe tbody tr th:only-of-type {\n",
       "        vertical-align: middle;\n",
       "    }\n",
       "\n",
       "    .dataframe tbody tr th {\n",
       "        vertical-align: top;\n",
       "    }\n",
       "\n",
       "    .dataframe thead th {\n",
       "        text-align: right;\n",
       "    }\n",
       "</style>\n",
       "<table border=\"1\" class=\"dataframe\">\n",
       "  <thead>\n",
       "    <tr style=\"text-align: right;\">\n",
       "      <th></th>\n",
       "      <th>Idjugador</th>\n",
       "      <th>nombre</th>\n",
       "      <th>apellido</th>\n",
       "      <th>nickname</th>\n",
       "      <th>codigociudad</th>\n",
       "      <th>total-ganancias</th>\n",
       "      <th>juego</th>\n",
       "      <th>genero</th>\n",
       "      <th>Ciudad</th>\n",
       "    </tr>\n",
       "  </thead>\n",
       "  <tbody>\n",
       "    <tr>\n",
       "      <th>0</th>\n",
       "      <td>3883</td>\n",
       "      <td>Peter</td>\n",
       "      <td>Rasmussen</td>\n",
       "      <td>dupreeh</td>\n",
       "      <td>DK</td>\n",
       "      <td>1822989.41</td>\n",
       "      <td>Counter-Strike: Global Offensive</td>\n",
       "      <td>First-Person Shooter</td>\n",
       "      <td>Denmark</td>\n",
       "    </tr>\n",
       "    <tr>\n",
       "      <th>1</th>\n",
       "      <td>3679</td>\n",
       "      <td>Andreas</td>\n",
       "      <td>Højsleth</td>\n",
       "      <td>Xyp9x</td>\n",
       "      <td>DK</td>\n",
       "      <td>1799288.57</td>\n",
       "      <td>Counter-Strike: Global Offensive</td>\n",
       "      <td>First-Person Shooter</td>\n",
       "      <td>Denmark</td>\n",
       "    </tr>\n",
       "    <tr>\n",
       "      <th>2</th>\n",
       "      <td>3885</td>\n",
       "      <td>Nicolai</td>\n",
       "      <td>Reedtz</td>\n",
       "      <td>dev1ce</td>\n",
       "      <td>DK</td>\n",
       "      <td>1787489.88</td>\n",
       "      <td>Counter-Strike: Global Offensive</td>\n",
       "      <td>First-Person Shooter</td>\n",
       "      <td>Denmark</td>\n",
       "    </tr>\n",
       "    <tr>\n",
       "      <th>3</th>\n",
       "      <td>3672</td>\n",
       "      <td>Lukas</td>\n",
       "      <td>Rossander</td>\n",
       "      <td>gla1ve</td>\n",
       "      <td>DK</td>\n",
       "      <td>1652350.75</td>\n",
       "      <td>Counter-Strike: Global Offensive</td>\n",
       "      <td>First-Person Shooter</td>\n",
       "      <td>Denmark</td>\n",
       "    </tr>\n",
       "    <tr>\n",
       "      <th>4</th>\n",
       "      <td>17800</td>\n",
       "      <td>Emil</td>\n",
       "      <td>Reif</td>\n",
       "      <td>Magisk</td>\n",
       "      <td>DK</td>\n",
       "      <td>1416448.64</td>\n",
       "      <td>Counter-Strike: Global Offensive</td>\n",
       "      <td>First-Person Shooter</td>\n",
       "      <td>Denmark</td>\n",
       "    </tr>\n",
       "    <tr>\n",
       "      <th>...</th>\n",
       "      <td>...</td>\n",
       "      <td>...</td>\n",
       "      <td>...</td>\n",
       "      <td>...</td>\n",
       "      <td>...</td>\n",
       "      <td>...</td>\n",
       "      <td>...</td>\n",
       "      <td>...</td>\n",
       "      <td>...</td>\n",
       "    </tr>\n",
       "    <tr>\n",
       "      <th>1025</th>\n",
       "      <td>38798</td>\n",
       "      <td>-</td>\n",
       "      <td>-</td>\n",
       "      <td>Trunks</td>\n",
       "      <td>CN</td>\n",
       "      <td>51231.70</td>\n",
       "      <td>Hearthstone</td>\n",
       "      <td>Collectible Card Game</td>\n",
       "      <td>China</td>\n",
       "    </tr>\n",
       "    <tr>\n",
       "      <th>1026</th>\n",
       "      <td>8321</td>\n",
       "      <td>Petar</td>\n",
       "      <td>Stevanovic</td>\n",
       "      <td>Gaara</td>\n",
       "      <td>DE</td>\n",
       "      <td>51059.59</td>\n",
       "      <td>Hearthstone</td>\n",
       "      <td>Collectible Card Game</td>\n",
       "      <td>Germany</td>\n",
       "    </tr>\n",
       "    <tr>\n",
       "      <th>1027</th>\n",
       "      <td>7400</td>\n",
       "      <td>Janne</td>\n",
       "      <td>Mikkonen</td>\n",
       "      <td>Savjz</td>\n",
       "      <td>FI</td>\n",
       "      <td>50734.44</td>\n",
       "      <td>Hearthstone</td>\n",
       "      <td>Collectible Card Game</td>\n",
       "      <td>Finland</td>\n",
       "    </tr>\n",
       "    <tr>\n",
       "      <th>1029</th>\n",
       "      <td>49164</td>\n",
       "      <td>Simone</td>\n",
       "      <td>Liguori</td>\n",
       "      <td>Leta</td>\n",
       "      <td>IT</td>\n",
       "      <td>49300.00</td>\n",
       "      <td>Hearthstone</td>\n",
       "      <td>Collectible Card Game</td>\n",
       "      <td>Italy</td>\n",
       "    </tr>\n",
       "    <tr>\n",
       "      <th>1031</th>\n",
       "      <td>1100</td>\n",
       "      <td>Jeffrey</td>\n",
       "      <td>Brusi</td>\n",
       "      <td>SjoW</td>\n",
       "      <td>SE</td>\n",
       "      <td>47973.61</td>\n",
       "      <td>Hearthstone</td>\n",
       "      <td>Collectible Card Game</td>\n",
       "      <td>Sweden</td>\n",
       "    </tr>\n",
       "  </tbody>\n",
       "</table>\n",
       "<p>879 rows × 9 columns</p>\n",
       "</div>"
      ],
      "text/plain": [
       "      Idjugador   nombre    apellido nickname codigociudad  total-ganancias  \\\n",
       "0          3883    Peter   Rasmussen  dupreeh           DK       1822989.41   \n",
       "1          3679  Andreas    Højsleth    Xyp9x           DK       1799288.57   \n",
       "2          3885  Nicolai      Reedtz   dev1ce           DK       1787489.88   \n",
       "3          3672    Lukas   Rossander   gla1ve           DK       1652350.75   \n",
       "4         17800     Emil        Reif   Magisk           DK       1416448.64   \n",
       "...         ...      ...         ...      ...          ...              ...   \n",
       "1025      38798        -           -   Trunks           CN         51231.70   \n",
       "1026       8321    Petar  Stevanovic    Gaara           DE         51059.59   \n",
       "1027       7400    Janne    Mikkonen    Savjz           FI         50734.44   \n",
       "1029      49164   Simone     Liguori     Leta           IT         49300.00   \n",
       "1031       1100  Jeffrey       Brusi     SjoW           SE         47973.61   \n",
       "\n",
       "                                 juego                 genero   Ciudad  \n",
       "0     Counter-Strike: Global Offensive   First-Person Shooter  Denmark  \n",
       "1     Counter-Strike: Global Offensive   First-Person Shooter  Denmark  \n",
       "2     Counter-Strike: Global Offensive   First-Person Shooter  Denmark  \n",
       "3     Counter-Strike: Global Offensive   First-Person Shooter  Denmark  \n",
       "4     Counter-Strike: Global Offensive   First-Person Shooter  Denmark  \n",
       "...                                ...                    ...      ...  \n",
       "1025                       Hearthstone  Collectible Card Game    China  \n",
       "1026                       Hearthstone  Collectible Card Game  Germany  \n",
       "1027                       Hearthstone  Collectible Card Game  Finland  \n",
       "1029                       Hearthstone  Collectible Card Game    Italy  \n",
       "1031                       Hearthstone  Collectible Card Game   Sweden  \n",
       "\n",
       "[879 rows x 9 columns]"
      ]
     },
     "execution_count": 68,
     "metadata": {},
     "output_type": "execute_result"
    }
   ],
   "source": [
    "dataframefinal"
   ]
  },
  {
   "cell_type": "code",
   "execution_count": 72,
   "id": "b842e364-2562-47ab-a5a7-e23362c757f3",
   "metadata": {},
   "outputs": [
    {
     "name": "stdout",
     "output_type": "stream",
     "text": [
      "DataFrame guardado como CSV en la carpeta actual con el nombre: archivo.csv\n"
     ]
    }
   ],
   "source": [
    "\n",
    "nombre_archivo_csv = \"archivo.csv\"\n",
    "dataframefinal.to_csv(nombre_archivo_csv, index=False)\n",
    "\n",
    "print(\"DataFrame guardado como CSV en la carpeta actual con el nombre:\", nombre_archivo_csv)\n"
   ]
  },
  {
   "cell_type": "code",
   "execution_count": null,
   "id": "f71b9b1e-7953-4644-9f18-474bcde3b443",
   "metadata": {},
   "outputs": [],
   "source": []
  }
 ],
 "metadata": {
  "kernelspec": {
   "display_name": "Python 3 (ipykernel)",
   "language": "python",
   "name": "python3"
  },
  "language_info": {
   "codemirror_mode": {
    "name": "ipython",
    "version": 3
   },
   "file_extension": ".py",
   "mimetype": "text/x-python",
   "name": "python",
   "nbconvert_exporter": "python",
   "pygments_lexer": "ipython3",
   "version": "3.12.0"
  }
 },
 "nbformat": 4,
 "nbformat_minor": 5
}
